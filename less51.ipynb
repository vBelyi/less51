{
 "cells": [
  {
   "cell_type": "code",
   "execution_count": 3,
   "id": "2973f93b",
   "metadata": {},
   "outputs": [],
   "source": [
    "from sklearn.mixture import GaussianMixture\n",
    "from sklearn.datasets import make_blobs\n",
    "import matplotlib.pyplot as plt\n",
    "import numpy as np\n",
    "import pandas as pd\n",
    "\\"
   ]
  },
  {
   "cell_type": "code",
   "execution_count": 25,
   "id": "21636d96",
   "metadata": {},
   "outputs": [],
   "source": [
    "data = pd.DataFrame({'Weight':\n",
    "                    [13]*8000 + [12]*5000,\n",
    "                    'Factory':\n",
    "                    ['Factory1']*8000 + ['Factory2']*5000,\n",
    "                    'StdDev':\n",
    "                    [0.5]*8000 + [0.7]*5000})"
   ]
  },
  {
   "cell_type": "code",
   "execution_count": 29,
   "id": "2be3a031",
   "metadata": {},
   "outputs": [],
   "source": [
    "X = data[['Weight', 'StdDev']].values"
   ]
  },
  {
   "cell_type": "code",
   "execution_count": 14,
   "id": "9af92d0b",
   "metadata": {},
   "outputs": [
    {
     "data": {
      "text/plain": [
       "GaussianMixture(n_components=2, random_state=42)"
      ]
     },
     "execution_count": 14,
     "metadata": {},
     "output_type": "execute_result"
    }
   ],
   "source": [
    "gmm = GaussianMixture(n_components=2,random_state=42)\n",
    "gmm.fit(X)"
   ]
  },
  {
   "cell_type": "code",
   "execution_count": 15,
   "id": "e4f9480e",
   "metadata": {},
   "outputs": [],
   "source": [
    "data['Predicted_Factory'] = gmm.predict(X)"
   ]
  },
  {
   "cell_type": "code",
   "execution_count": 18,
   "id": "8f49158f",
   "metadata": {},
   "outputs": [],
   "source": [
    "pr_factory1 = len(data[(data['Predicted_Factory'] == 0) & (data['Factory'] == 'Factory1')]) /len(data)\n",
    "pr_factory2 = len(data[(data['Predicted_Factory'] == 1) & (data['Factory'] == 'Factory2')]) /len(data)"
   ]
  },
  {
   "cell_type": "code",
   "execution_count": 19,
   "id": "b30f0cc6",
   "metadata": {},
   "outputs": [
    {
     "data": {
      "text/plain": [
       "0.6153846153846154"
      ]
     },
     "execution_count": 19,
     "metadata": {},
     "output_type": "execute_result"
    }
   ],
   "source": [
    "#Ймовірність належності до заводу 1\n",
    "pr_factory1"
   ]
  },
  {
   "cell_type": "code",
   "execution_count": 20,
   "id": "9f8a80de",
   "metadata": {},
   "outputs": [
    {
     "data": {
      "text/plain": [
       "0.38461538461538464"
      ]
     },
     "execution_count": 20,
     "metadata": {},
     "output_type": "execute_result"
    }
   ],
   "source": [
    "#Ймовірність належності до заводу 2\n",
    "pr_factory2"
   ]
  },
  {
   "cell_type": "code",
   "execution_count": null,
   "id": "413420e0",
   "metadata": {},
   "outputs": [],
   "source": []
  }
 ],
 "metadata": {
  "kernelspec": {
   "display_name": "Python 3 (ipykernel)",
   "language": "python",
   "name": "python3"
  },
  "language_info": {
   "codemirror_mode": {
    "name": "ipython",
    "version": 3
   },
   "file_extension": ".py",
   "mimetype": "text/x-python",
   "name": "python",
   "nbconvert_exporter": "python",
   "pygments_lexer": "ipython3",
   "version": "3.9.13"
  }
 },
 "nbformat": 4,
 "nbformat_minor": 5
}
